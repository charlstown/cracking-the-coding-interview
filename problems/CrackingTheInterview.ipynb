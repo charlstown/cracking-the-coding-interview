{
 "cells": [
  {
   "cell_type": "markdown",
   "metadata": {},
   "source": [
    "# Cracking the coding interview\n",
    "Author and book data"
   ]
  },
  {
   "cell_type": "code",
   "execution_count": 9,
   "metadata": {},
   "outputs": [],
   "source": [
    "import helpers as help"
   ]
  },
  {
   "cell_type": "markdown",
   "metadata": {},
   "source": [
    "## 1. Solutions to Arrays and Strings\n",
    "Description"
   ]
  },
  {
   "cell_type": "markdown",
   "metadata": {},
   "source": [
    "### 1.1 Is Unique\n",
    "Implement amn algorithm to determine if all characters in a string are unique. What if you cannot use additional data structures?"
   ]
  },
  {
   "cell_type": "code",
   "execution_count": 1,
   "metadata": {},
   "outputs": [
    {
     "name": "stdout",
     "output_type": "stream",
     "text": [
      "False True True\n"
     ]
    }
   ],
   "source": [
    "def is_unique(string):\n",
    "    \"\"\"1.1 Determine if all characters in the string are unique. Ascii extended.\"\"\"\n",
    "    # If the string has more character than the Ascii extended alphabet (256) has repetitions\n",
    "    if len(string) > 256:\n",
    "        return False\n",
    "\n",
    "    # Check if a character in the input string is repeated\n",
    "    check_lst = list()\n",
    "    for i in string:\n",
    "        if i in check_lst:\n",
    "            return False\n",
    "        else:\n",
    "            check_lst.append(i)\n",
    "    return True\n",
    "\n",
    "\n",
    "\n",
    "string_1 = \"This is a test\"\n",
    "string_2 = \"qwertyuiopasdfghjklñ 3456zxcvbnm\"\n",
    "string_3 = ''.join(chr(x) for x in range(256))\n",
    "\n",
    "msg = \"The \"\n",
    "\n",
    "check_1 = is_unique(string_1)\n",
    "check_2 = is_unique(string_2)\n",
    "check_3 = is_unique(string_3)\n",
    "\n",
    "print"
   ]
  },
  {
   "cell_type": "markdown",
   "metadata": {},
   "source": [
    "### 1.2 Check permutation"
   ]
  },
  {
   "cell_type": "markdown",
   "metadata": {},
   "source": [
    "### Check permutation"
   ]
  },
  {
   "cell_type": "markdown",
   "metadata": {},
   "source": [
    "### Check permutation"
   ]
  },
  {
   "cell_type": "markdown",
   "metadata": {},
   "source": [
    "### Check permutation"
   ]
  },
  {
   "cell_type": "markdown",
   "metadata": {},
   "source": [
    "### Check permutation"
   ]
  },
  {
   "cell_type": "markdown",
   "metadata": {},
   "source": [
    "### Check permutation"
   ]
  },
  {
   "cell_type": "markdown",
   "metadata": {},
   "source": [
    "### Check permutation"
   ]
  },
  {
   "cell_type": "markdown",
   "metadata": {},
   "source": [
    "### Check permutation"
   ]
  },
  {
   "cell_type": "markdown",
   "metadata": {},
   "source": [
    "### Check permutation"
   ]
  },
  {
   "cell_type": "markdown",
   "metadata": {},
   "source": [
    "### Check permutation"
   ]
  },
  {
   "cell_type": "markdown",
   "metadata": {},
   "source": [
    "### Check permutation"
   ]
  }
 ],
 "metadata": {
  "kernelspec": {
   "display_name": "Python 3",
   "language": "python",
   "name": "python3"
  },
  "language_info": {
   "codemirror_mode": {
    "name": "ipython",
    "version": 3
   },
   "file_extension": ".py",
   "mimetype": "text/x-python",
   "name": "python",
   "nbconvert_exporter": "python",
   "pygments_lexer": "ipython3",
   "version": "3.6.5"
  }
 },
 "nbformat": 4,
 "nbformat_minor": 4
}
