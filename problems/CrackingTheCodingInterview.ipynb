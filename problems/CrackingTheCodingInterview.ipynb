{
 "cells": [
  {
   "cell_type": "markdown",
   "metadata": {},
   "source": [
    "# Cracking the coding interview\n",
    "Author and book data"
   ]
  },
  {
   "cell_type": "code",
   "execution_count": 114,
   "metadata": {},
   "outputs": [],
   "source": [
    "import helpers\n",
    "import string"
   ]
  },
  {
   "cell_type": "markdown",
   "metadata": {},
   "source": [
    "## 1. Solutions to Arrays and Strings\n",
    "Description"
   ]
  },
  {
   "cell_type": "markdown",
   "metadata": {},
   "source": [
    "### 1.1 Is Unique\n",
    "Implement an algorithm to determine if all characters in a string are unique.\n",
    "- You cannot use additional data structures"
   ]
  },
  {
   "cell_type": "code",
   "execution_count": 115,
   "metadata": {},
   "outputs": [],
   "source": [
    "def is_unique(string):\n",
    "    \"\"\"1.1 Determine if all characters in the string are unique. Ascii extended.\"\"\"\n",
    "    # If the string has more character than the Ascii extended alphabet (256) has repetitions\n",
    "    if len(string) > 256:\n",
    "        return False\n",
    "\n",
    "    # Check if a character in the input string is repeated\n",
    "    check_lst = list()\n",
    "    for i in string:\n",
    "        if i in check_lst:\n",
    "            return False\n",
    "        else:\n",
    "            check_lst.append(i)\n",
    "    return True"
   ]
  },
  {
   "cell_type": "markdown",
   "metadata": {},
   "source": [
    "**Tests:**"
   ]
  },
  {
   "cell_type": "code",
   "execution_count": 116,
   "metadata": {},
   "outputs": [
    {
     "name": "stdout",
     "output_type": "stream",
     "text": [
      "- Test 0: True\n",
      "    ['a']\n",
      "- Test 1: False\n",
      "    ['This is a test']\n",
      "- Test 2: True\n",
      "    ['qwertyuiopasdfghjklñ 3456zxcvbnm']\n",
      "- Test 3: True\n",
      "    ['abcdefghijklmnopqrstuvwxyzABCDEFGHIJKLMNOPQRSTUVWXYZ']\n"
     ]
    }
   ],
   "source": [
    "# Tests\n",
    "string_1 = \"a\"\n",
    "string_2 = \"This is a test\"\n",
    "string_3 = \"qwertyuiopasdfghjklñ 3456zxcvbnm\"\n",
    "string_4 = string.ascii_letters\n",
    "\n",
    "helpers.test_function([string_1], [string_2], [string_3], [string_4], func=is_unique, show=True)"
   ]
  },
  {
   "cell_type": "markdown",
   "metadata": {},
   "source": [
    "### 1.2 Check permutation\n",
    "Given two strings, write a method to decide if one is a permutation of the other."
   ]
  },
  {
   "cell_type": "code",
   "execution_count": 117,
   "metadata": {},
   "outputs": [],
   "source": [
    "def is_permutation_a(word: str, permutation: str, solution=0): \n",
    "    \"\"\"Check if a string is permutation of the other by sorting letters of both strings\"\"\"\n",
    "     \n",
    "    # Permutations must be the same length \n",
    "    if len(word) != len(permutation): \n",
    "        return False \n",
    "     \n",
    "    # Sort and compare \n",
    "    word, permutation = sorted(word), sorted(permutation) \n",
    "    for i in range(len(word)): \n",
    "        if word[i] != permutation[i]: \n",
    "            return False         \n",
    "    return True \n",
    " \n",
    "def is_permutation_b(word: str, permutation: str, solution=0):\n",
    "    \"\"\"Check if a string is permutation of the other by counting frequencies\"\"\"\n",
    "    # Permutations must be the same length \n",
    "    if len(word) != len(permutation): \n",
    "        return False \n",
    "     \n",
    "    # Count letters \n",
    "    frequency = [0]*256 \n",
    "     \n",
    "    # Gets the word frequency \n",
    "    for letter in word: \n",
    "        frequency[ord(letter)] += 1 \n",
    "     \n",
    "    # checks the permutation \n",
    "    for letter in permutation: \n",
    "        if frequency[ord(letter)] <= 0: \n",
    "            return False \n",
    "        frequency[ord(letter)] -= 1   \n",
    "    return True"
   ]
  },
  {
   "cell_type": "markdown",
   "metadata": {},
   "source": [
    "**Tests:**"
   ]
  },
  {
   "cell_type": "code",
   "execution_count": 118,
   "metadata": {},
   "outputs": [
    {
     "name": "stdout",
     "output_type": "stream",
     "text": [
      "The fastest function is is_permutation_b it took 0.02 seconds less than the second best.\n",
      "\n",
      "is_permutation_a: 0.38151049613952637\n",
      "is_permutation_b: 0.36338376998901367\n"
     ]
    }
   ],
   "source": [
    "test_string_a = helpers.rnd_string(10**6)\n",
    "\n",
    "# Compare solutions\n",
    "helpers.compare_functions(is_permutation_a, is_permutation_b, inpt=[test_string_a, test_string_a])"
   ]
  },
  {
   "cell_type": "markdown",
   "metadata": {},
   "source": [
    "### 1.3 Urlify\n",
    "Write a method to replace all spaces in a string with '%20'. Y\n",
    "- The string has sufficient space at the end to hold the additional characters.\n",
    "- You are given the true length of the string"
   ]
  },
  {
   "cell_type": "code",
   "execution_count": 134,
   "metadata": {},
   "outputs": [],
   "source": [
    "def urlify(url, length):\n",
    "    \"\"\"\n",
    "    Function to add %20 for spaces\n",
    "    :param url: string to be replaced with the %20\n",
    "    :return: string with %20 instead of spaces\n",
    "    \"\"\"\n",
    "    url_lst = list(url)\n",
    "    total = len(url)\n",
    "    start = length\n",
    "    end = total\n",
    "    for i in reversed(range(length)):\n",
    "        if url_lst[i] == ' ':\n",
    "            slice = list('%20') + url_lst[i+1:start]\n",
    "            url_lst[end-len(slice):end] = slice\n",
    "            start = i\n",
    "            end -= len(slice)\n",
    "    return ''.join(url_lst)\n"
   ]
  },
  {
   "cell_type": "markdown",
   "metadata": {},
   "source": [
    "**Tests:**"
   ]
  },
  {
   "cell_type": "code",
   "execution_count": 135,
   "metadata": {},
   "outputs": [
    {
     "name": "stdout",
     "output_type": "stream",
     "text": [
      "- Test 0: This%20is%20an%20example\n",
      "- Test 1: %20This%20is%20an%20example\n",
      "- Test 2: ten-digits\n",
      "- Test 3: test-space-end%20\n"
     ]
    }
   ],
   "source": [
    "test_1 = [\"This is an example      \", 18]       # This%20is%20an%20example\n",
    "test_2 = [\" This is an example        \", 19]    # %20This%20is%20an%20example\n",
    "test_3 = [\"ten-digits\", 10]                     # ten-digits\n",
    "test_4 = [\"test-space-end   \", 15]              # test-space-end%20\n",
    "\n",
    "\n",
    "helpers.test_function(\n",
    "    test_1,\n",
    "    test_2,\n",
    "    test_3,\n",
    "    test_4,\n",
    "    func=urlify\n",
    "    )"
   ]
  },
  {
   "cell_type": "markdown",
   "metadata": {},
   "source": [
    "### 1.4 Palindrome Permutation\n",
    "Given a string, write a function to check if it is a permutation of a palindrome. A palindrome is a word or phrase that is the same forwards and backwards. A permutation is a rearrangement of letters\n",
    "- The palindrome does not need to be limited to just a dictionary words.\n",
    "- You can ignore casing and non-letter characters"
   ]
  },
  {
   "cell_type": "code",
   "execution_count": 121,
   "metadata": {},
   "outputs": [],
   "source": [
    "def check_palindrom(txt): \n",
    "    freq = dict() \n",
    "    # Check the frequencies \n",
    "    for letter in txt: \n",
    "        if letter in freq.keys(): \n",
    "            freq[letter] += 1 \n",
    "        elif letter != ' ': \n",
    "            freq[letter] = 1 \n",
    "    # Check multiple odd \n",
    "    limit = 0\n",
    "    for i in freq.values(): \n",
    "        if i%2 != 0: \n",
    "            limit += 1 \n",
    "            if limit >= 2: \n",
    "                return False \n",
    "    return True"
   ]
  },
  {
   "cell_type": "markdown",
   "metadata": {},
   "source": [
    "**Tests:**"
   ]
  },
  {
   "cell_type": "code",
   "execution_count": 122,
   "metadata": {},
   "outputs": [
    {
     "name": "stdout",
     "output_type": "stream",
     "text": [
      "- Test 0: True\n",
      "    ['agbbhglhiai']\n",
      "- Test 1: True\n",
      "    ['abcc bla']\n",
      "- Test 2: True\n",
      "    ['asdfghjkjhgfdsa']\n",
      "- Test 3: False\n",
      "    ['asdkjfjhiuadfgnaoidfuhjkasdfgngfgsd']\n"
     ]
    }
   ],
   "source": [
    "string_a = 'agbbhglhiai'\n",
    "string_b = 'abcc bla'\n",
    "string_c = 'asdfghjkjhgfdsa'\n",
    "string_d = 'asdkjfjhiuadfgnaoidfuhjkasdfgngfgsd'\n",
    "\n",
    "helpers.test_function([string_a], [string_b], [string_c], [string_d], func=check_palindrom, show=True)"
   ]
  },
  {
   "cell_type": "markdown",
   "metadata": {},
   "source": [
    "### 1.5 One Away\n",
    "\n",
    "There are three types of edits that can be performed on strings: insert a character, remove a character, or replace a character. Given two strings, write a function to check if they are one edit (or zero edits) away.\n",
    "\n",
    "Example:\n",
    "- pale, ple -> True\n",
    "- pales, pale -> True\n",
    "- pale, bale -> True\n",
    "- pale, bake -> True"
   ]
  },
  {
   "cell_type": "code",
   "execution_count": 123,
   "metadata": {},
   "outputs": [],
   "source": [
    "def one_away(word_a, word_b):\n",
    "    \"\"\"\n",
    "    Function to check if a string has only one replace, insert or remove operation compare to the other\n",
    "    :param: word without the operation\n",
    "    :param: word with the operation\n",
    "    \"\"\"\n",
    "    def a_contains_b(w_content: str, w_containter: str, replace=False):\n",
    "        \"\"\"\n",
    "        Function to check if a part of a word is contained in other word.\n",
    "        :param a: word as content of the container word\n",
    "        :param b: word as container of content word\n",
    "        :return: True if w_content is in w_container\n",
    "        \"\"\"\n",
    "        counter = 0\n",
    "        smallest_word = min(len(w_content), len(w_containter))\n",
    "        for i in range(smallest_word):\n",
    "            offset = 0 if replace else counter\n",
    "            # Count how many letters from w_content are in w_containter\n",
    "            if w_content[i+offset] != w_containter[i]:\n",
    "                counter += 1\n",
    "            if counter >= 2:\n",
    "                return False\n",
    "        return True\n",
    "        \n",
    "    # check for equals\n",
    "    if word_a == word_b:\n",
    "        return False\n",
    "    \n",
    "    # check for replace operation\n",
    "    if len(word_a) == len(word_b):\n",
    "        return a_contains_b(w_content=word_a, w_containter=word_b, replace=True)\n",
    "\n",
    "    # check for remove operation\n",
    "    elif len(word_a) == len(word_b) + 1:\n",
    "        return a_contains_b(w_content=word_a, w_containter=word_b) # Check if word_a is in word_b\n",
    "\n",
    "    # check for insert operation\n",
    "    elif len(word_a) == len(word_b) - 1:\n",
    "        return a_contains_b(w_content=word_b, w_containter=word_a) # Check if word_b is in word_a     \n",
    "    return False\n"
   ]
  },
  {
   "cell_type": "markdown",
   "metadata": {},
   "source": [
    "**Tests:**"
   ]
  },
  {
   "cell_type": "code",
   "execution_count": 124,
   "metadata": {},
   "outputs": [
    {
     "name": "stdout",
     "output_type": "stream",
     "text": [
      "- Test 0: False\n",
      "    ['charlestown', 'charlestown']\n",
      "- Test 1: True\n",
      "    ['charlestown', 'chaarlestown']\n",
      "- Test 2: True\n",
      "    ['charlestown', 'charlstown']\n",
      "- Test 3: True\n",
      "    ['charlestown', 'charlestawn']\n",
      "- Test 4: False\n",
      "    ['charlestown', 'chaarlestowwn']\n",
      "- Test 5: False\n",
      "    ['charlestown', 'charlston']\n",
      "- Test 6: False\n",
      "    ['charlestown', 'carlestawn']\n",
      "- Test 7: False\n",
      "    ['charlestown', 'charlestwon']\n"
     ]
    }
   ],
   "source": [
    "string_a = 'charlestown'\n",
    "string_b = 'chaarlestown' # insert\n",
    "string_c = 'charlstown' # remove \n",
    "string_d = 'charlestawn' # replace\n",
    "string_e = 'chaarlestowwn' # insert x2\n",
    "string_f = 'charlston' # remove x2\n",
    "string_g = 'carlestawn' # replace x2\n",
    "string_h = 'charlestwon' # equal\n",
    "string_h = 'charlestwon' # Fake insert\n",
    "string_h = 'charlestwon' # Fake remove\n",
    "\n",
    "helpers.test_function([string_a, string_a],\n",
    "                      [string_a, string_b],\n",
    "                      [string_a, string_c],\n",
    "                      [string_a, string_d],\n",
    "                      [string_a, string_e],\n",
    "                      [string_a, string_f],\n",
    "                      [string_a, string_g],\n",
    "                      [string_a, string_h],\n",
    "                      func=one_away, show=True)"
   ]
  },
  {
   "cell_type": "markdown",
   "metadata": {},
   "source": [
    "### 1.6 String Compression\n",
    "Implement a method to perform basic string compression using the counts of repeated characters.\n",
    "For example:\n",
    "aabcccccaa -> a2b1c5a3\n",
    "\n",
    "If the \"compressed\" string would not become smaller than the original string, your method should return the original string.\n",
    "\n",
    "- You can assume the string has only uppercase and lowercase letters (a-z)"
   ]
  },
  {
   "cell_type": "code",
   "execution_count": 125,
   "metadata": {},
   "outputs": [],
   "source": [
    "def string_compress(string: str):\n",
    "    \"\"\"\n",
    "    Function to compress strings\n",
    "    :param string: string to be compressed as input\n",
    "    :return: string compressed if possible\n",
    "    \"\"\"\n",
    "    string_lst = list(string)\n",
    "    repetitions = 1\n",
    "    check_repetition = False\n",
    "\n",
    "    # iterate from the back of the text\n",
    "    for i in reversed(range(1, len(string))):\n",
    "        if string[i] == string[i-1]:\n",
    "            repetitions += 1\n",
    "            check_repetition = True\n",
    "            if i == 1:\n",
    "                string_lst[i:repetitions] = str(repetitions)\n",
    "        elif check_repetition  and string_lst[i] != string_lst[i-1] and repetitions > 1:\n",
    "            string_lst[i+1:i+repetitions] = str(repetitions)\n",
    "            repetitions = 1\n",
    "            check_repetition = False\n",
    "        else:\n",
    "            repetitions = 1\n",
    "            check_repetition = False\n",
    "    \n",
    "    # return if compress is possible\n",
    "    if len(string) > len(string_lst):\n",
    "        return ''.join(string_lst)\n",
    "    else:\n",
    "        return string\n",
    "        "
   ]
  },
  {
   "cell_type": "markdown",
   "metadata": {},
   "source": [
    "**Tests:**"
   ]
  },
  {
   "cell_type": "code",
   "execution_count": 126,
   "metadata": {},
   "outputs": [
    {
     "name": "stdout",
     "output_type": "stream",
     "text": [
      "- Test 0: a2b3c4d5e6f7g8\n",
      "- Test 1: aabbccddeeffgghhii\n",
      "- Test 2: a2b2c2d2e2f2g2h2i3\n",
      "- Test 3: a25\n",
      "- Test 4: AB2C3D4E2v2E3\n",
      "- Test 5: qwertyuiopasdfghjklñ\n"
     ]
    }
   ],
   "source": [
    "test_0 = \"aabbbccccdddddeeeeeefffffffgggggggg\" # a2b3c4d5e6g8\n",
    "test_1 = \"aabbccddeeffgghhii\" # No compress possible\n",
    "test_2 = \"aabbccddeeffgghhiii\" # a2b2c2d2e2f2g2h2i3\n",
    "test_3 = \"aaaaaaaaaaaaaaaaaaaaaaaaa\" # a25\n",
    "test_4 = \"ABBCCCDDDDEEvvEEE\" # AB2C3D4E2v2E3\n",
    "test_5 = \"qwertyuiopasdfghjklñ\" # No compress possible\n",
    "\n",
    "helpers.test_function([test_0],\n",
    "                      [test_1],\n",
    "                      [test_2],\n",
    "                      [test_3],\n",
    "                      [test_4],\n",
    "                      [test_5],\n",
    "                      func=string_compress\n",
    ")"
   ]
  },
  {
   "cell_type": "markdown",
   "metadata": {},
   "source": [
    "### 1.7 Rotate Matrix"
   ]
  },
  {
   "cell_type": "code",
   "execution_count": null,
   "metadata": {},
   "outputs": [],
   "source": []
  },
  {
   "cell_type": "markdown",
   "metadata": {},
   "source": [
    "*Tests:*"
   ]
  },
  {
   "cell_type": "code",
   "execution_count": null,
   "metadata": {},
   "outputs": [],
   "source": []
  },
  {
   "cell_type": "markdown",
   "metadata": {},
   "source": [
    "### 1.8  Rotate Matrix"
   ]
  },
  {
   "cell_type": "code",
   "execution_count": null,
   "metadata": {},
   "outputs": [],
   "source": []
  },
  {
   "cell_type": "markdown",
   "metadata": {},
   "source": [
    "*Tests:*"
   ]
  },
  {
   "cell_type": "code",
   "execution_count": null,
   "metadata": {},
   "outputs": [],
   "source": []
  },
  {
   "cell_type": "markdown",
   "metadata": {},
   "source": [
    "### 1.9 String Rotation"
   ]
  },
  {
   "cell_type": "code",
   "execution_count": null,
   "metadata": {},
   "outputs": [],
   "source": []
  },
  {
   "cell_type": "markdown",
   "metadata": {},
   "source": [
    "*Tests:*"
   ]
  },
  {
   "cell_type": "code",
   "execution_count": null,
   "metadata": {},
   "outputs": [],
   "source": []
  }
 ],
 "metadata": {
  "kernelspec": {
   "display_name": "Python 3",
   "language": "python",
   "name": "python3"
  },
  "language_info": {
   "codemirror_mode": {
    "name": "ipython",
    "version": 3
   },
   "file_extension": ".py",
   "mimetype": "text/x-python",
   "name": "python",
   "nbconvert_exporter": "python",
   "pygments_lexer": "ipython3",
   "version": "3.10.4"
  },
  "vscode": {
   "interpreter": {
    "hash": "3ad933181bd8a04b432d3370b9dc3b0662ad032c4dfaa4e4f1596c548f763858"
   }
  }
 },
 "nbformat": 4,
 "nbformat_minor": 4
}
