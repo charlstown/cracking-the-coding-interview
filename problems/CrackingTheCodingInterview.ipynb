{
 "cells": [
  {
   "cell_type": "markdown",
   "metadata": {},
   "source": [
    "# Cracking the coding interview\n",
    "Author and book data"
   ]
  },
  {
   "cell_type": "code",
   "execution_count": 1,
   "metadata": {},
   "outputs": [],
   "source": [
    "import helpers\n",
    "import string"
   ]
  },
  {
   "cell_type": "markdown",
   "metadata": {},
   "source": [
    "## 1. Solutions to Arrays and Strings\n",
    "Description"
   ]
  },
  {
   "cell_type": "markdown",
   "metadata": {},
   "source": [
    "### 1.1 Is Unique\n",
    "Implement an algorithm to determine if all characters in a string are unique.\n",
    "- You cannot use additional data structures"
   ]
  },
  {
   "cell_type": "code",
   "execution_count": 2,
   "metadata": {},
   "outputs": [],
   "source": [
    "def is_unique(string):\n",
    "    \"\"\"1.1 Determine if all characters in the string are unique. Ascii extended.\"\"\"\n",
    "    # If the string has more character than the Ascii extended alphabet (256) has repetitions\n",
    "    if len(string) > 256:\n",
    "        return False\n",
    "\n",
    "    # Check if a character in the input string is repeated\n",
    "    check_lst = list()\n",
    "    for i in string:\n",
    "        if i in check_lst:\n",
    "            return False\n",
    "        else:\n",
    "            check_lst.append(i)\n",
    "    return True"
   ]
  },
  {
   "cell_type": "markdown",
   "metadata": {},
   "source": [
    "**Tests:**"
   ]
  },
  {
   "cell_type": "code",
   "execution_count": 3,
   "metadata": {},
   "outputs": [
    {
     "name": "stdout",
     "output_type": "stream",
     "text": [
      "- Test 0: True\n",
      "    ['a']\n",
      "- Test 1: False\n",
      "    ['This is a test']\n",
      "- Test 2: True\n",
      "    ['qwertyuiopasdfghjklñ 3456zxcvbnm']\n",
      "- Test 3: True\n",
      "    ['abcdefghijklmnopqrstuvwxyzABCDEFGHIJKLMNOPQRSTUVWXYZ']\n"
     ]
    }
   ],
   "source": [
    "# Tests\n",
    "string_1 = \"a\"\n",
    "string_2 = \"This is a test\"\n",
    "string_3 = \"qwertyuiopasdfghjklñ 3456zxcvbnm\"\n",
    "string_4 = string.ascii_letters\n",
    "\n",
    "helpers.test_function([string_1], [string_2], [string_3], [string_4], func=is_unique, show=True)"
   ]
  },
  {
   "cell_type": "markdown",
   "metadata": {},
   "source": [
    "### 1.2 Check permutation\n",
    "Given two strings, write a method to decide if one is a permutation of the other."
   ]
  },
  {
   "cell_type": "code",
   "execution_count": 4,
   "metadata": {},
   "outputs": [],
   "source": [
    "def is_permutation_a(word: str, permutation: str, solution=0): \n",
    "    \"\"\"Check if a string is permutation of the other by sorting letters of both strings\"\"\"\n",
    "     \n",
    "    # Permutations must be the same length \n",
    "    if len(word) != len(permutation): \n",
    "        return False \n",
    "     \n",
    "    # Sort and compare \n",
    "    word, permutation = sorted(word), sorted(permutation) \n",
    "    for i in range(len(word)): \n",
    "        if word[i] != permutation[i]: \n",
    "            return False         \n",
    "    return True \n",
    " \n",
    "def is_permutation_b(word: str, permutation: str, solution=0):\n",
    "    \"\"\"Check if a string is permutation of the other by counting frequencies\"\"\"\n",
    "    # Permutations must be the same length \n",
    "    if len(word) != len(permutation): \n",
    "        return False \n",
    "     \n",
    "    # Count letters \n",
    "    frequency = [0]*256 \n",
    "     \n",
    "    # Gets the word frequency \n",
    "    for letter in word: \n",
    "        frequency[ord(letter)] += 1 \n",
    "     \n",
    "    # checks the permutation \n",
    "    for letter in permutation: \n",
    "        if frequency[ord(letter)] <= 0: \n",
    "            return False \n",
    "        frequency[ord(letter)] -= 1   \n",
    "    return True"
   ]
  },
  {
   "cell_type": "markdown",
   "metadata": {},
   "source": [
    "**Tests:**"
   ]
  },
  {
   "cell_type": "code",
   "execution_count": 5,
   "metadata": {},
   "outputs": [
    {
     "name": "stdout",
     "output_type": "stream",
     "text": [
      "The fastest function is is_permutation_b it took 0.17 seconds less than the second best.\n",
      "\n",
      "is_permutation_a: 0.5166206359863281\n",
      "is_permutation_b: 0.34508252143859863\n"
     ]
    }
   ],
   "source": [
    "test_string_a = helpers.rnd_string(10**6)\n",
    "\n",
    "# Compare solutions\n",
    "helpers.compare_functions(is_permutation_a, is_permutation_b, inpt=[test_string_a, test_string_a])"
   ]
  },
  {
   "cell_type": "markdown",
   "metadata": {},
   "source": [
    "### 1.3 Urlify\n",
    "Write a method to replace all spaces in a string with '%20'. Y\n",
    "- The string has sufficient space at the end to hold the additional characters.\n",
    "- You are given the true length of the string"
   ]
  },
  {
   "cell_type": "code",
   "execution_count": null,
   "metadata": {},
   "outputs": [],
   "source": []
  },
  {
   "cell_type": "markdown",
   "metadata": {},
   "source": [
    "*Tests:*"
   ]
  },
  {
   "cell_type": "code",
   "execution_count": null,
   "metadata": {},
   "outputs": [],
   "source": []
  },
  {
   "cell_type": "markdown",
   "metadata": {},
   "source": [
    "### 1.4 Palindrome Permutation\n",
    "Given a string, write a function to check if it is a permutation of a palindrome. A palindrome is a word or phrase that is the same forwards and backwards. A permutation is a rearrangement of letters\n",
    "- The palindrome does not need to be limited to just a dictionary words.\n",
    "- You can ignore casing and non-letter characters"
   ]
  },
  {
   "cell_type": "code",
   "execution_count": 9,
   "metadata": {},
   "outputs": [],
   "source": [
    "def check_palindrom(txt): \n",
    "    freq = dict() \n",
    "    # Check the frequencies \n",
    "    for letter in txt: \n",
    "        if letter in freq.keys(): \n",
    "            freq[letter] += 1 \n",
    "        elif letter != ' ': \n",
    "            freq[letter] = 1 \n",
    "    # Check multiple odd \n",
    "    limit = 0\n",
    "    for i in freq.values(): \n",
    "        if i%2 != 0: \n",
    "            limit += 1 \n",
    "            if limit >= 2: \n",
    "                return False \n",
    "    return True"
   ]
  },
  {
   "cell_type": "markdown",
   "metadata": {},
   "source": [
    "**Tests:**"
   ]
  },
  {
   "cell_type": "code",
   "execution_count": 11,
   "metadata": {},
   "outputs": [
    {
     "name": "stdout",
     "output_type": "stream",
     "text": [
      "- Test 0: True\n",
      "    ['agbbhglhiai']\n",
      "- Test 1: True\n",
      "    ['abcc bla']\n",
      "- Test 2: True\n",
      "    ['asdfghjkjhgfdsa']\n",
      "- Test 3: False\n",
      "    ['asdkjfjhiuadfgnaoidfuhjkasdfgngfgsd']\n"
     ]
    }
   ],
   "source": [
    "string_a = 'agbbhglhiai'\n",
    "string_b = 'abcc bla'\n",
    "string_c = 'asdfghjkjhgfdsa'\n",
    "string_d = 'asdkjfjhiuadfgnaoidfuhjkasdfgngfgsd'\n",
    "\n",
    "helpers.test_function([string_a], [string_b], [string_c], [string_d], func=check_palindrom, show=True)"
   ]
  },
  {
   "cell_type": "markdown",
   "metadata": {},
   "source": [
    "### 1.5 One Away"
   ]
  },
  {
   "cell_type": "code",
   "execution_count": null,
   "metadata": {},
   "outputs": [],
   "source": []
  },
  {
   "cell_type": "markdown",
   "metadata": {},
   "source": [
    "*Tests:*"
   ]
  },
  {
   "cell_type": "code",
   "execution_count": null,
   "metadata": {},
   "outputs": [],
   "source": []
  },
  {
   "cell_type": "markdown",
   "metadata": {},
   "source": [
    "### 1.6 String Compression"
   ]
  },
  {
   "cell_type": "code",
   "execution_count": null,
   "metadata": {},
   "outputs": [],
   "source": []
  },
  {
   "cell_type": "markdown",
   "metadata": {},
   "source": [
    "*Tests:*"
   ]
  },
  {
   "cell_type": "code",
   "execution_count": null,
   "metadata": {},
   "outputs": [],
   "source": []
  },
  {
   "cell_type": "markdown",
   "metadata": {},
   "source": [
    "### 1.7 Rotate Matrix"
   ]
  },
  {
   "cell_type": "code",
   "execution_count": null,
   "metadata": {},
   "outputs": [],
   "source": []
  },
  {
   "cell_type": "markdown",
   "metadata": {},
   "source": [
    "*Tests:*"
   ]
  },
  {
   "cell_type": "code",
   "execution_count": null,
   "metadata": {},
   "outputs": [],
   "source": []
  },
  {
   "cell_type": "markdown",
   "metadata": {},
   "source": [
    "### 1.8  Rotate Matrix"
   ]
  },
  {
   "cell_type": "code",
   "execution_count": null,
   "metadata": {},
   "outputs": [],
   "source": []
  },
  {
   "cell_type": "markdown",
   "metadata": {},
   "source": [
    "*Tests:*"
   ]
  },
  {
   "cell_type": "code",
   "execution_count": null,
   "metadata": {},
   "outputs": [],
   "source": []
  },
  {
   "cell_type": "markdown",
   "metadata": {},
   "source": [
    "### 1.9 String Rotation"
   ]
  },
  {
   "cell_type": "code",
   "execution_count": null,
   "metadata": {},
   "outputs": [],
   "source": []
  },
  {
   "cell_type": "markdown",
   "metadata": {},
   "source": [
    "*Tests:*"
   ]
  },
  {
   "cell_type": "code",
   "execution_count": null,
   "metadata": {},
   "outputs": [],
   "source": []
  }
 ],
 "metadata": {
  "kernelspec": {
   "display_name": "Python 3.10.4 64-bit",
   "language": "python",
   "name": "python3"
  },
  "language_info": {
   "codemirror_mode": {
    "name": "ipython",
    "version": 3
   },
   "file_extension": ".py",
   "mimetype": "text/x-python",
   "name": "python",
   "nbconvert_exporter": "python",
   "pygments_lexer": "ipython3",
   "version": "3.10.4"
  },
  "vscode": {
   "interpreter": {
    "hash": "3ad933181bd8a04b432d3370b9dc3b0662ad032c4dfaa4e4f1596c548f763858"
   }
  }
 },
 "nbformat": 4,
 "nbformat_minor": 4
}
