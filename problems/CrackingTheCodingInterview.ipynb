{
 "cells": [
  {
   "cell_type": "markdown",
   "metadata": {},
   "source": [
    "# Cracking the coding interview\n",
    "Author and book data"
   ]
  },
  {
   "cell_type": "code",
   "execution_count": 1,
   "metadata": {},
   "outputs": [],
   "source": [
    "import helpers\n",
    "import string"
   ]
  },
  {
   "cell_type": "markdown",
   "metadata": {},
   "source": [
    "## 1. Solutions to Arrays and Strings\n",
    "Description"
   ]
  },
  {
   "cell_type": "markdown",
   "metadata": {},
   "source": [
    "### 1.1 Is Unique\n",
    "Implement an algorithm to determine if all characters in a string are unique.\n",
    "- You cannot use additional data structures"
   ]
  },
  {
   "cell_type": "code",
   "execution_count": 2,
   "metadata": {},
   "outputs": [],
   "source": [
    "def is_unique(string):\n",
    "    \"\"\"1.1 Determine if all characters in the string are unique. Ascii extended.\"\"\"\n",
    "    # If the string has more character than the Ascii extended alphabet (256) has repetitions\n",
    "    if len(string) > 256:\n",
    "        return False\n",
    "\n",
    "    # Check if a character in the input string is repeated\n",
    "    check_lst = list()\n",
    "    for i in string:\n",
    "        if i in check_lst:\n",
    "            return False\n",
    "        else:\n",
    "            check_lst.append(i)\n",
    "    return True"
   ]
  },
  {
   "cell_type": "markdown",
   "metadata": {},
   "source": [
    "**Tests:**"
   ]
  },
  {
   "cell_type": "code",
   "execution_count": 3,
   "metadata": {},
   "outputs": [
    {
     "name": "stdout",
     "output_type": "stream",
     "text": [
      "- Test 0: True\n",
      "    ['a']\n",
      "- Test 1: False\n",
      "    ['This is a test']\n",
      "- Test 2: True\n",
      "    ['qwertyuiopasdfghjklñ 3456zxcvbnm']\n",
      "- Test 3: True\n",
      "    ['abcdefghijklmnopqrstuvwxyzABCDEFGHIJKLMNOPQRSTUVWXYZ']\n"
     ]
    }
   ],
   "source": [
    "# Tests\n",
    "string_1 = \"a\"\n",
    "string_2 = \"This is a test\"\n",
    "string_3 = \"qwertyuiopasdfghjklñ 3456zxcvbnm\"\n",
    "string_4 = string.ascii_letters\n",
    "\n",
    "helpers.test_function([string_1], [string_2], [string_3], [string_4], func=is_unique, show=True)"
   ]
  },
  {
   "cell_type": "markdown",
   "metadata": {},
   "source": [
    "### 1.2 Check permutation\n",
    "Given two strings, write a method to decide if one is a permutation of the other."
   ]
  },
  {
   "cell_type": "code",
   "execution_count": 4,
   "metadata": {},
   "outputs": [],
   "source": [
    "def is_permutation_a(word: str, permutation: str, solution=0): \n",
    "    \"\"\"Check if a string is permutation of the other by sorting letters of both strings\"\"\"\n",
    "     \n",
    "    # Permutations must be the same length \n",
    "    if len(word) != len(permutation): \n",
    "        return False \n",
    "     \n",
    "    # Sort and compare \n",
    "    word, permutation = sorted(word), sorted(permutation) \n",
    "    for i in range(len(word)): \n",
    "        if word[i] != permutation[i]: \n",
    "            return False         \n",
    "    return True \n",
    " \n",
    "def is_permutation_b(word: str, permutation: str, solution=0):\n",
    "    \"\"\"Check if a string is permutation of the other by counting frequencies\"\"\"\n",
    "    # Permutations must be the same length \n",
    "    if len(word) != len(permutation): \n",
    "        return False \n",
    "     \n",
    "    # Count letters \n",
    "    frequency = [0]*256 \n",
    "     \n",
    "    # Gets the word frequency \n",
    "    for letter in word: \n",
    "        frequency[ord(letter)] += 1 \n",
    "     \n",
    "    # checks the permutation \n",
    "    for letter in permutation: \n",
    "        if frequency[ord(letter)] <= 0: \n",
    "            return False \n",
    "        frequency[ord(letter)] -= 1   \n",
    "    return True"
   ]
  },
  {
   "cell_type": "markdown",
   "metadata": {},
   "source": [
    "**Tests:**"
   ]
  },
  {
   "cell_type": "code",
   "execution_count": 5,
   "metadata": {},
   "outputs": [
    {
     "name": "stdout",
     "output_type": "stream",
     "text": [
      "The fastest function is is_permutation_b it took 0.14 seconds less than the second best.\n",
      "\n",
      "is_permutation_a: 0.38222312927246094\n",
      "is_permutation_b: 0.23912763595581055\n"
     ]
    }
   ],
   "source": [
    "test_string_a = helpers.rnd_string(10**6)\n",
    "\n",
    "# Compare solutions\n",
    "helpers.compare_functions(is_permutation_a, is_permutation_b, inpt=[test_string_a, test_string_a])"
   ]
  },
  {
   "cell_type": "markdown",
   "metadata": {},
   "source": [
    "### 1.3 Urlify\n",
    "Write a method to replace all spaces in a string with '%20'. Y\n",
    "- The string has sufficient space at the end to hold the additional characters.\n",
    "- You are given the true length of the string"
   ]
  },
  {
   "cell_type": "code",
   "execution_count": null,
   "metadata": {},
   "outputs": [],
   "source": []
  },
  {
   "cell_type": "markdown",
   "metadata": {},
   "source": [
    "*Tests:*"
   ]
  },
  {
   "cell_type": "code",
   "execution_count": null,
   "metadata": {},
   "outputs": [],
   "source": []
  },
  {
   "cell_type": "markdown",
   "metadata": {},
   "source": [
    "### 1.4 Palindrome Permutation\n",
    "Given a string, write a function to check if it is a permutation of a palindrome. A palindrome is a word or phrase that is the same forwards and backwards. A permutation is a rearrangement of letters\n",
    "- The palindrome does not need to be limited to just a dictionary words.\n",
    "- You can ignore casing and non-letter characters"
   ]
  },
  {
   "cell_type": "code",
   "execution_count": 6,
   "metadata": {},
   "outputs": [],
   "source": [
    "def check_palindrom(txt): \n",
    "    freq = dict() \n",
    "    # Check the frequencies \n",
    "    for letter in txt: \n",
    "        if letter in freq.keys(): \n",
    "            freq[letter] += 1 \n",
    "        elif letter != ' ': \n",
    "            freq[letter] = 1 \n",
    "    # Check multiple odd \n",
    "    limit = 0\n",
    "    for i in freq.values(): \n",
    "        if i%2 != 0: \n",
    "            limit += 1 \n",
    "            if limit >= 2: \n",
    "                return False \n",
    "    return True"
   ]
  },
  {
   "cell_type": "markdown",
   "metadata": {},
   "source": [
    "**Tests:**"
   ]
  },
  {
   "cell_type": "code",
   "execution_count": 7,
   "metadata": {},
   "outputs": [
    {
     "name": "stdout",
     "output_type": "stream",
     "text": [
      "- Test 0: True\n",
      "    ['agbbhglhiai']\n",
      "- Test 1: True\n",
      "    ['abcc bla']\n",
      "- Test 2: True\n",
      "    ['asdfghjkjhgfdsa']\n",
      "- Test 3: False\n",
      "    ['asdkjfjhiuadfgnaoidfuhjkasdfgngfgsd']\n"
     ]
    }
   ],
   "source": [
    "string_a = 'agbbhglhiai'\n",
    "string_b = 'abcc bla'\n",
    "string_c = 'asdfghjkjhgfdsa'\n",
    "string_d = 'asdkjfjhiuadfgnaoidfuhjkasdfgngfgsd'\n",
    "\n",
    "helpers.test_function([string_a], [string_b], [string_c], [string_d], func=check_palindrom, show=True)"
   ]
  },
  {
   "cell_type": "markdown",
   "metadata": {},
   "source": [
    "### 1.5 One Away"
   ]
  },
  {
   "cell_type": "code",
   "execution_count": 149,
   "metadata": {},
   "outputs": [],
   "source": [
    "def one_away(word_a, word_b):\n",
    "    \"\"\"\n",
    "    Function to check if a string has only one replace, insert or remove operation compare to the other\n",
    "    :param: word without the operation\n",
    "    :param: word with the operation\n",
    "    \"\"\"\n",
    "    def a_contains_b(w_content: str, w_containter: str):\n",
    "        \"\"\"\n",
    "        Function to check if a part of a word is contained in other word.\n",
    "        :param a: word as content of the container word\n",
    "        :param b: word as container of content word\n",
    "        :return: True if w_content is in w_container\n",
    "        \"\"\"\n",
    "        print(w_content, w_containter)\n",
    "        counter = 0\n",
    "        for i in range(len(w_content)):\n",
    "#             print(i+counter, w_content[i+counter], w_containter[i], i, counter)\n",
    "            if w_content[i+counter] != w_containter[i]:\n",
    "                counter += 1\n",
    "            if counter >= 2:\n",
    "                return False\n",
    "        return True\n",
    "        \n",
    "    # check for equals\n",
    "    if word_a == word_b:\n",
    "        return False\n",
    "    \n",
    "    # check for replace operation\n",
    "    if len(word_a) == len(word_b):\n",
    "        counter = 0\n",
    "        # Check if word_a-1 is in word_b\n",
    "        for i in range(len(word_a)):\n",
    "            if word_a[i] != word_b[i]:\n",
    "                counter += 1\n",
    "            if counter >= 2:\n",
    "                return False\n",
    "        return True\n",
    "\n",
    "    # check for remove operation\n",
    "    elif len(word_a) == len(word_b) + 1:\n",
    "        return a_contains_b(w_content=word_a, w_containter=word_b) # Check if word_a is in word_b\n",
    "\n",
    "    # check for insert operation\n",
    "    elif len(word_a) == len(word_b) - 1:\n",
    "        print('insert')\n",
    "        return a_contains_b(w_content=word_b, w_containter=word_a) # Check if word_b is in word_a     \n",
    "    return False\n"
   ]
  },
  {
   "cell_type": "markdown",
   "metadata": {},
   "source": [
    "*Tests:*"
   ]
  },
  {
   "cell_type": "code",
   "execution_count": 150,
   "metadata": {},
   "outputs": [
    {
     "name": "stdout",
     "output_type": "stream",
     "text": [
      "- Test 0: False\n",
      "insert\n",
      "chaarlestown charlestown\n"
     ]
    },
    {
     "ename": "IndexError",
     "evalue": "string index out of range",
     "output_type": "error",
     "traceback": [
      "\u001b[0;31m-----------------------------------------------------------------------\u001b[0m",
      "\u001b[0;31mIndexError\u001b[0m                            Traceback (most recent call last)",
      "\u001b[0;32m<ipython-input-150-447d2b7fcdef>\u001b[0m in \u001b[0;36m<module>\u001b[0;34m\u001b[0m\n\u001b[1;32m     18\u001b[0m                       \u001b[0;34m[\u001b[0m\u001b[0mstring_a\u001b[0m\u001b[0;34m,\u001b[0m \u001b[0mstring_g\u001b[0m\u001b[0;34m]\u001b[0m\u001b[0;34m,\u001b[0m\u001b[0;34m\u001b[0m\u001b[0;34m\u001b[0m\u001b[0m\n\u001b[1;32m     19\u001b[0m                       \u001b[0;34m[\u001b[0m\u001b[0mstring_a\u001b[0m\u001b[0;34m,\u001b[0m \u001b[0mstring_h\u001b[0m\u001b[0;34m]\u001b[0m\u001b[0;34m,\u001b[0m\u001b[0;34m\u001b[0m\u001b[0;34m\u001b[0m\u001b[0m\n\u001b[0;32m---> 20\u001b[0;31m                       func=one_away)\n\u001b[0m",
      "\u001b[0;32m/mnt/42086A060869F975/00_MyUniverse/00_WIP/CodingProblems/problems/helpers.py\u001b[0m in \u001b[0;36mtest_function\u001b[0;34m(func, show, *inputs)\u001b[0m\n\u001b[1;32m     30\u001b[0m     \u001b[0;32mfor\u001b[0m \u001b[0mi\u001b[0m \u001b[0;32min\u001b[0m \u001b[0mrange\u001b[0m\u001b[0;34m(\u001b[0m\u001b[0mlen\u001b[0m\u001b[0;34m(\u001b[0m\u001b[0minputs\u001b[0m\u001b[0;34m)\u001b[0m\u001b[0;34m)\u001b[0m\u001b[0;34m:\u001b[0m\u001b[0;34m\u001b[0m\u001b[0;34m\u001b[0m\u001b[0m\n\u001b[1;32m     31\u001b[0m         \u001b[0minput\u001b[0m \u001b[0;34m=\u001b[0m \u001b[0minputs\u001b[0m\u001b[0;34m[\u001b[0m\u001b[0mi\u001b[0m\u001b[0;34m]\u001b[0m\u001b[0;34m\u001b[0m\u001b[0;34m\u001b[0m\u001b[0m\n\u001b[0;32m---> 32\u001b[0;31m         \u001b[0moutput\u001b[0m \u001b[0;34m=\u001b[0m \u001b[0mfunc\u001b[0m\u001b[0;34m(\u001b[0m\u001b[0;34m*\u001b[0m\u001b[0minput\u001b[0m\u001b[0;34m)\u001b[0m\u001b[0;34m\u001b[0m\u001b[0;34m\u001b[0m\u001b[0m\n\u001b[0m\u001b[1;32m     33\u001b[0m         \u001b[0mprint\u001b[0m\u001b[0;34m(\u001b[0m\u001b[0;34mf\"- Test {i}: {output}\"\u001b[0m\u001b[0;34m)\u001b[0m\u001b[0;34m\u001b[0m\u001b[0;34m\u001b[0m\u001b[0m\n\u001b[1;32m     34\u001b[0m         \u001b[0;32mif\u001b[0m \u001b[0mshow\u001b[0m\u001b[0;34m:\u001b[0m\u001b[0;34m\u001b[0m\u001b[0;34m\u001b[0m\u001b[0m\n",
      "\u001b[0;32m<ipython-input-149-bfe8b3926386>\u001b[0m in \u001b[0;36mone_away\u001b[0;34m(word_a, word_b)\u001b[0m\n\u001b[1;32m     44\u001b[0m     \u001b[0;32melif\u001b[0m \u001b[0mlen\u001b[0m\u001b[0;34m(\u001b[0m\u001b[0mword_a\u001b[0m\u001b[0;34m)\u001b[0m \u001b[0;34m==\u001b[0m \u001b[0mlen\u001b[0m\u001b[0;34m(\u001b[0m\u001b[0mword_b\u001b[0m\u001b[0;34m)\u001b[0m \u001b[0;34m-\u001b[0m \u001b[0;36m1\u001b[0m\u001b[0;34m:\u001b[0m\u001b[0;34m\u001b[0m\u001b[0;34m\u001b[0m\u001b[0m\n\u001b[1;32m     45\u001b[0m         \u001b[0mprint\u001b[0m\u001b[0;34m(\u001b[0m\u001b[0;34m'insert'\u001b[0m\u001b[0;34m)\u001b[0m\u001b[0;34m\u001b[0m\u001b[0;34m\u001b[0m\u001b[0m\n\u001b[0;32m---> 46\u001b[0;31m         \u001b[0;32mreturn\u001b[0m \u001b[0ma_contains_b\u001b[0m\u001b[0;34m(\u001b[0m\u001b[0mw_content\u001b[0m\u001b[0;34m=\u001b[0m\u001b[0mword_b\u001b[0m\u001b[0;34m,\u001b[0m \u001b[0mw_containter\u001b[0m\u001b[0;34m=\u001b[0m\u001b[0mword_a\u001b[0m\u001b[0;34m)\u001b[0m \u001b[0;31m# Check if word_b is in word_a\u001b[0m\u001b[0;34m\u001b[0m\u001b[0;34m\u001b[0m\u001b[0m\n\u001b[0m\u001b[1;32m     47\u001b[0m     \u001b[0;32mreturn\u001b[0m \u001b[0;32mFalse\u001b[0m\u001b[0;34m\u001b[0m\u001b[0;34m\u001b[0m\u001b[0m\n",
      "\u001b[0;32m<ipython-input-149-bfe8b3926386>\u001b[0m in \u001b[0;36ma_contains_b\u001b[0;34m(w_content, w_containter)\u001b[0m\n\u001b[1;32m     16\u001b[0m         \u001b[0;32mfor\u001b[0m \u001b[0mi\u001b[0m \u001b[0;32min\u001b[0m \u001b[0mrange\u001b[0m\u001b[0;34m(\u001b[0m\u001b[0mlen\u001b[0m\u001b[0;34m(\u001b[0m\u001b[0mw_content\u001b[0m\u001b[0;34m)\u001b[0m\u001b[0;34m)\u001b[0m\u001b[0;34m:\u001b[0m\u001b[0;34m\u001b[0m\u001b[0;34m\u001b[0m\u001b[0m\n\u001b[1;32m     17\u001b[0m \u001b[0;31m#             print(i+counter, w_content[i+counter], w_containter[i], i, counter)\u001b[0m\u001b[0;34m\u001b[0m\u001b[0;34m\u001b[0m\u001b[0;34m\u001b[0m\u001b[0m\n\u001b[0;32m---> 18\u001b[0;31m             \u001b[0;32mif\u001b[0m \u001b[0mw_content\u001b[0m\u001b[0;34m[\u001b[0m\u001b[0mi\u001b[0m\u001b[0;34m+\u001b[0m\u001b[0mcounter\u001b[0m\u001b[0;34m]\u001b[0m \u001b[0;34m!=\u001b[0m \u001b[0mw_containter\u001b[0m\u001b[0;34m[\u001b[0m\u001b[0mi\u001b[0m\u001b[0;34m]\u001b[0m\u001b[0;34m:\u001b[0m\u001b[0;34m\u001b[0m\u001b[0;34m\u001b[0m\u001b[0m\n\u001b[0m\u001b[1;32m     19\u001b[0m                 \u001b[0mcounter\u001b[0m \u001b[0;34m+=\u001b[0m \u001b[0;36m1\u001b[0m\u001b[0;34m\u001b[0m\u001b[0;34m\u001b[0m\u001b[0m\n\u001b[1;32m     20\u001b[0m             \u001b[0;32mif\u001b[0m \u001b[0mcounter\u001b[0m \u001b[0;34m>=\u001b[0m \u001b[0;36m2\u001b[0m\u001b[0;34m:\u001b[0m\u001b[0;34m\u001b[0m\u001b[0;34m\u001b[0m\u001b[0m\n",
      "\u001b[0;31mIndexError\u001b[0m: string index out of range"
     ]
    }
   ],
   "source": [
    "string_a = 'charlestown'\n",
    "string_b = 'chaarlestown' # insert\n",
    "string_c = 'charlstown' # remove \n",
    "string_d = 'charlestawn' # replace\n",
    "string_e = 'chaarlestowwn' # insert x2\n",
    "string_f = 'charlston' # remove x2\n",
    "string_g = 'carlestawn' # replace x2\n",
    "string_h = 'charlestwon' # equal\n",
    "string_h = 'charlestwon' # Fake insert\n",
    "string_h = 'charlestwon' # Fake remove\n",
    "\n",
    "helpers.test_function([string_a, string_a],\n",
    "                      [string_a, string_b],\n",
    "                      [string_a, string_c],\n",
    "                      [string_a, string_d],\n",
    "                      [string_a, string_e],\n",
    "                      [string_a, string_f],\n",
    "                      [string_a, string_g],\n",
    "                      [string_a, string_h],\n",
    "                      func=one_away)"
   ]
  },
  {
   "cell_type": "markdown",
   "metadata": {},
   "source": [
    "### 1.6 String Compression"
   ]
  },
  {
   "cell_type": "code",
   "execution_count": null,
   "metadata": {},
   "outputs": [],
   "source": []
  },
  {
   "cell_type": "markdown",
   "metadata": {},
   "source": [
    "*Tests:*"
   ]
  },
  {
   "cell_type": "code",
   "execution_count": null,
   "metadata": {},
   "outputs": [],
   "source": []
  },
  {
   "cell_type": "markdown",
   "metadata": {},
   "source": [
    "### 1.7 Rotate Matrix"
   ]
  },
  {
   "cell_type": "code",
   "execution_count": null,
   "metadata": {},
   "outputs": [],
   "source": []
  },
  {
   "cell_type": "markdown",
   "metadata": {},
   "source": [
    "*Tests:*"
   ]
  },
  {
   "cell_type": "code",
   "execution_count": null,
   "metadata": {},
   "outputs": [],
   "source": []
  },
  {
   "cell_type": "markdown",
   "metadata": {},
   "source": [
    "### 1.8  Rotate Matrix"
   ]
  },
  {
   "cell_type": "code",
   "execution_count": null,
   "metadata": {},
   "outputs": [],
   "source": []
  },
  {
   "cell_type": "markdown",
   "metadata": {},
   "source": [
    "*Tests:*"
   ]
  },
  {
   "cell_type": "code",
   "execution_count": null,
   "metadata": {},
   "outputs": [],
   "source": []
  },
  {
   "cell_type": "markdown",
   "metadata": {},
   "source": [
    "### 1.9 String Rotation"
   ]
  },
  {
   "cell_type": "code",
   "execution_count": null,
   "metadata": {},
   "outputs": [],
   "source": []
  },
  {
   "cell_type": "markdown",
   "metadata": {},
   "source": [
    "*Tests:*"
   ]
  },
  {
   "cell_type": "code",
   "execution_count": null,
   "metadata": {},
   "outputs": [],
   "source": []
  }
 ],
 "metadata": {
  "kernelspec": {
   "display_name": "Python 3",
   "language": "python",
   "name": "python3"
  },
  "language_info": {
   "codemirror_mode": {
    "name": "ipython",
    "version": 3
   },
   "file_extension": ".py",
   "mimetype": "text/x-python",
   "name": "python",
   "nbconvert_exporter": "python",
   "pygments_lexer": "ipython3",
   "version": "3.7.6"
  },
  "vscode": {
   "interpreter": {
    "hash": "3ad933181bd8a04b432d3370b9dc3b0662ad032c4dfaa4e4f1596c548f763858"
   }
  }
 },
 "nbformat": 4,
 "nbformat_minor": 4
}
