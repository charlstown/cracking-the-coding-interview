{
 "cells": [
  {
   "cell_type": "markdown",
   "metadata": {},
   "source": [
    "# CtCI: 1. Solutions to Arrays and Strings\n",
    "\n",
    "My Python solutions for the book [Cracking the Coding Interview, 6th Edition](https://www.crackingthecodinginterview.com/) by Gayle Laakmann McDowell."
   ]
  },
  {
   "cell_type": "code",
   "execution_count": 1,
   "metadata": {},
   "outputs": [],
   "source": [
    "import helpers\n",
    "import string"
   ]
  },
  {
   "cell_type": "markdown",
   "metadata": {},
   "source": [
    "### 1.1 Is Unique\n",
    "Implement an algorithm to determine if all characters in a string are unique.\n",
    "- You cannot use additional data structures"
   ]
  },
  {
   "cell_type": "code",
   "execution_count": 2,
   "metadata": {},
   "outputs": [],
   "source": [
    "def is_unique(string: str) -> bool:\n",
    "    \"\"\"\n",
    "    Determine if all the characters in the string are unique (Ascii extended)\n",
    "    :param string: string to process\n",
    "    :return: True if all characters are unique\n",
    "    \"\"\"\n",
    "    # If the string has more character than the Ascii extended alphabet (256) has repetitions\n",
    "    if len(string) > 256:\n",
    "        return False\n",
    "\n",
    "    # Check if a character in the input string is repeated\n",
    "    check_lst = list()\n",
    "    for i in string:\n",
    "        if i in check_lst:\n",
    "            return False\n",
    "        else:\n",
    "            check_lst.append(i)\n",
    "    return True"
   ]
  },
  {
   "cell_type": "markdown",
   "metadata": {},
   "source": [
    "**Tests:**"
   ]
  },
  {
   "cell_type": "code",
   "execution_count": 3,
   "metadata": {},
   "outputs": [
    {
     "name": "stdout",
     "output_type": "stream",
     "text": [
      "    ['a']\n",
      "- Test 0: True\n",
      "    ['This is a test']\n",
      "- Test 1: False\n",
      "    ['qwertyuiopasdfghjklñ 3456zxcvbnm']\n",
      "- Test 2: True\n",
      "    ['abcdefghijklmnopqrstuvwxyzABCDEFGHIJKLMNOPQRSTUVWXYZ']\n",
      "- Test 3: True\n"
     ]
    }
   ],
   "source": [
    "# Tests\n",
    "string_1 = \"a\"\n",
    "string_2 = \"This is a test\"\n",
    "string_3 = \"qwertyuiopasdfghjklñ 3456zxcvbnm\"\n",
    "string_4 = string.ascii_letters\n",
    "\n",
    "helpers.test_function([string_1], [string_2], [string_3], [string_4], func=is_unique, show=True)"
   ]
  },
  {
   "cell_type": "markdown",
   "metadata": {},
   "source": [
    "### 1.2 Check permutation\n",
    "Given two strings, write a method to decide if one is a permutation of the other."
   ]
  },
  {
   "cell_type": "code",
   "execution_count": 4,
   "metadata": {},
   "outputs": [],
   "source": [
    "# Two possible solutions for the same problem\n",
    "\n",
    "def is_permutation_a(word: str, permutation: str) -> bool: \n",
    "    \"\"\"\n",
    "    Check if a string is permutation of the other by sorting letters of both strings\n",
    "    :param word: base word to compare from\n",
    "    :param permutation: string to compare with and check the possible permutation\n",
    "    :return: True if permutation input is a permutation from word input\n",
    "    \"\"\"\n",
    "     \n",
    "    # Permutations must be the same length \n",
    "    if len(word) != len(permutation): \n",
    "        return False \n",
    "     \n",
    "    # Sort and compare \n",
    "    word, permutation = sorted(word), sorted(permutation) \n",
    "    for i in range(len(word)): \n",
    "        if word[i] != permutation[i]: \n",
    "            return False         \n",
    "    return True \n",
    " \n",
    "def is_permutation_b(word: str, permutation: str) -> bool:\n",
    "    \"\"\"\n",
    "    Check if a string is permutation of the other by counting frequencies\n",
    "    :param word: base word to compare from\n",
    "    :param permutation: string to compare with and check the possible permutation\n",
    "    :return: True if permutation input is a permutation from word input\n",
    "    \"\"\"\n",
    "    # Permutations must be the same length \n",
    "    if len(word) != len(permutation): \n",
    "        return False \n",
    "     \n",
    "    # Count letters \n",
    "    frequency = [0]*256 \n",
    "     \n",
    "    # Gets the word frequency \n",
    "    for letter in word: \n",
    "        frequency[ord(letter)] += 1 \n",
    "     \n",
    "    # checks the permutation \n",
    "    for letter in permutation: \n",
    "        if frequency[ord(letter)] <= 0: \n",
    "            return False \n",
    "        frequency[ord(letter)] -= 1   \n",
    "    return True"
   ]
  },
  {
   "cell_type": "markdown",
   "metadata": {},
   "source": [
    "**Tests:**"
   ]
  },
  {
   "cell_type": "code",
   "execution_count": 5,
   "metadata": {},
   "outputs": [
    {
     "name": "stdout",
     "output_type": "stream",
     "text": [
      "The fastest function is is_permutation_b it took 0.07 seconds less than the second best.\n",
      "\n",
      "is_permutation_a: 0.313936710357666\n",
      "is_permutation_b: 0.243699312210083\n"
     ]
    }
   ],
   "source": [
    "test_string_a = helpers.rnd_string(10**6)\n",
    "\n",
    "# Compare solutions\n",
    "helpers.compare_functions(\n",
    "    is_permutation_a,\n",
    "    is_permutation_b,\n",
    "    inpt=[test_string_a, test_string_a])"
   ]
  },
  {
   "cell_type": "markdown",
   "metadata": {},
   "source": [
    "### 1.3 Urlify\n",
    "Write a method to replace all spaces in a string with '%20'. Y\n",
    "- The string has sufficient space at the end to hold the additional characters.\n",
    "- You are given the true length of the string"
   ]
  },
  {
   "cell_type": "code",
   "execution_count": 6,
   "metadata": {},
   "outputs": [],
   "source": [
    "def urlify(url: str, length: int) -> str:\n",
    "    \"\"\"\n",
    "    Function to add %20 for spaces\n",
    "    :param url: string to be replaced with the %20\n",
    "    :return: string with %20 instead of the spaces\n",
    "    \"\"\"\n",
    "    url_lst = list(url)\n",
    "    total = len(url)\n",
    "    start = length\n",
    "    end = total\n",
    "    for i in reversed(range(length)):\n",
    "        if url_lst[i] == ' ':\n",
    "            slice = list('%20') + url_lst[i+1:start]\n",
    "            url_lst[end-len(slice):end] = slice\n",
    "            start = i\n",
    "            end -= len(slice)\n",
    "    return ''.join(url_lst)\n"
   ]
  },
  {
   "cell_type": "markdown",
   "metadata": {},
   "source": [
    "**Tests:**"
   ]
  },
  {
   "cell_type": "code",
   "execution_count": 7,
   "metadata": {},
   "outputs": [
    {
     "name": "stdout",
     "output_type": "stream",
     "text": [
      "- Test 0: This%20is%20an%20example\n",
      "- Test 1: %20This%20is%20an%20example\n",
      "- Test 2: ten-digits\n",
      "- Test 3: test-space-end%20\n"
     ]
    }
   ],
   "source": [
    "test_1 = [\"This is an example      \", 18]       # This%20is%20an%20example\n",
    "test_2 = [\" This is an example        \", 19]    # %20This%20is%20an%20example\n",
    "test_3 = [\"ten-digits\", 10]                     # ten-digits\n",
    "test_4 = [\"test-space-end   \", 15]              # test-space-end%20\n",
    "\n",
    "\n",
    "helpers.test_function(\n",
    "    test_1,\n",
    "    test_2,\n",
    "    test_3,\n",
    "    test_4,\n",
    "    func=urlify\n",
    "    )"
   ]
  },
  {
   "cell_type": "markdown",
   "metadata": {},
   "source": [
    "### 1.4 Palindrome Permutation\n",
    "Given a string, write a function to check if it is a permutation of a palindrome. A palindrome is a word or phrase that is the same forwards and backwards. A permutation is a rearrangement of letters\n",
    "- The palindrome does not need to be limited to just a dictionary words.\n",
    "- You can ignore casing and non-letter characters"
   ]
  },
  {
   "cell_type": "code",
   "execution_count": 8,
   "metadata": {},
   "outputs": [],
   "source": [
    "def check_palindrom(txt: str) -> bool:\n",
    "    \"\"\"\n",
    "    Function to check if txt input is a permutation of a palindrome\n",
    "    :param txt: input string to check from\n",
    "    :return: True if the input is a permutation of a palindrome\n",
    "    \"\"\"\n",
    "    freq = dict() \n",
    "    # Check the frequencies \n",
    "    for letter in txt: \n",
    "        if letter in freq.keys(): \n",
    "            freq[letter] += 1 \n",
    "        elif letter != ' ': \n",
    "            freq[letter] = 1 \n",
    "    # Check multiple odd \n",
    "    limit = 0\n",
    "    for i in freq.values(): \n",
    "        if i%2 != 0: \n",
    "            limit += 1 \n",
    "            if limit >= 2: \n",
    "                return False \n",
    "    return True"
   ]
  },
  {
   "cell_type": "markdown",
   "metadata": {},
   "source": [
    "**Tests:**"
   ]
  },
  {
   "cell_type": "code",
   "execution_count": 9,
   "metadata": {},
   "outputs": [
    {
     "name": "stdout",
     "output_type": "stream",
     "text": [
      "    ['agbbhglhiai']\n",
      "- Test 0: True\n",
      "    ['abcc bla']\n",
      "- Test 1: True\n",
      "    ['asdfghjkjhgfdsa']\n",
      "- Test 2: True\n",
      "    ['asdkjfjhiuadfgnaoidfuhjkasdfgngfgsd']\n",
      "- Test 3: False\n"
     ]
    }
   ],
   "source": [
    "string_a = 'agbbhglhiai'\n",
    "string_b = 'abcc bla'\n",
    "string_c = 'asdfghjkjhgfdsa'\n",
    "string_d = 'asdkjfjhiuadfgnaoidfuhjkasdfgngfgsd'\n",
    "\n",
    "helpers.test_function([string_a], [string_b], [string_c], [string_d], func=check_palindrom, show=True)"
   ]
  },
  {
   "cell_type": "markdown",
   "metadata": {},
   "source": [
    "### 1.5 One Away\n",
    "\n",
    "There are three types of edits that can be performed on strings: insert a character, remove a character, or replace a character. Given two strings, write a function to check if they are one edit (or zero edits) away.\n",
    "\n",
    "Example:\n",
    "- pale, ple -> True\n",
    "- pales, pale -> True\n",
    "- pale, bale -> True\n",
    "- pale, bake -> True"
   ]
  },
  {
   "cell_type": "code",
   "execution_count": 10,
   "metadata": {},
   "outputs": [],
   "source": [
    "def one_away(word_a: str, word_b: str) -> bool:\n",
    "    \"\"\"\n",
    "    Function to check if a string has only one replace, insert or remove operation compare to the other\n",
    "    :param: word without the operation\n",
    "    :param: word with the operation\n",
    "    \"\"\"\n",
    "    def a_contains_b(w_content: str, w_containter: str, replace: bool=False) -> bool:\n",
    "        \"\"\"\n",
    "        Function to check if a part of a word is contained in other word.\n",
    "        :param a: word as content of the container word\n",
    "        :param b: word as container of content word\n",
    "        :return: True if w_content is in w_container\n",
    "        \"\"\"\n",
    "        counter = 0\n",
    "        smallest_word = min(len(w_content), len(w_containter))\n",
    "        for i in range(smallest_word):\n",
    "            offset = 0 if replace else counter\n",
    "            # Count how many letters from w_content are in w_containter\n",
    "            if w_content[i+offset] != w_containter[i]:\n",
    "                counter += 1\n",
    "            if counter >= 2:\n",
    "                return False\n",
    "        return True\n",
    "        \n",
    "    # check for equals\n",
    "    if word_a == word_b:\n",
    "        return False\n",
    "    \n",
    "    # check for replace operation\n",
    "    if len(word_a) == len(word_b):\n",
    "        return a_contains_b(w_content=word_a, w_containter=word_b, replace=True)\n",
    "\n",
    "    # check for remove operation\n",
    "    elif len(word_a) == len(word_b) + 1:\n",
    "        return a_contains_b(w_content=word_a, w_containter=word_b) # Check if word_a is in word_b\n",
    "\n",
    "    # check for insert operation\n",
    "    elif len(word_a) == len(word_b) - 1:\n",
    "        return a_contains_b(w_content=word_b, w_containter=word_a) # Check if word_b is in word_a     \n",
    "    return False\n"
   ]
  },
  {
   "cell_type": "markdown",
   "metadata": {},
   "source": [
    "**Tests:**"
   ]
  },
  {
   "cell_type": "code",
   "execution_count": 11,
   "metadata": {},
   "outputs": [
    {
     "name": "stdout",
     "output_type": "stream",
     "text": [
      "    ['charlestown', 'charlestown']\n",
      "- Test 0: False\n",
      "    ['charlestown', 'chaarlestown']\n",
      "- Test 1: True\n",
      "    ['charlestown', 'charlstown']\n",
      "- Test 2: True\n",
      "    ['charlestown', 'charlestawn']\n",
      "- Test 3: True\n",
      "    ['charlestown', 'chaarlestowwn']\n",
      "- Test 4: False\n",
      "    ['charlestown', 'charlston']\n",
      "- Test 5: False\n",
      "    ['charlestown', 'carlestawn']\n",
      "- Test 6: False\n",
      "    ['charlestown', 'charlestwon']\n",
      "- Test 7: False\n"
     ]
    }
   ],
   "source": [
    "string_a = 'charlestown'\n",
    "string_b = 'chaarlestown' # insert\n",
    "string_c = 'charlstown' # remove \n",
    "string_d = 'charlestawn' # replace\n",
    "string_e = 'chaarlestowwn' # insert x2\n",
    "string_f = 'charlston' # remove x2\n",
    "string_g = 'carlestawn' # replace x2\n",
    "string_h = 'charlestwon' # equal\n",
    "string_h = 'charlestwon' # Fake insert\n",
    "string_h = 'charlestwon' # Fake remove\n",
    "\n",
    "helpers.test_function([string_a, string_a],\n",
    "                      [string_a, string_b],\n",
    "                      [string_a, string_c],\n",
    "                      [string_a, string_d],\n",
    "                      [string_a, string_e],\n",
    "                      [string_a, string_f],\n",
    "                      [string_a, string_g],\n",
    "                      [string_a, string_h],\n",
    "                      func=one_away, show=True)"
   ]
  },
  {
   "cell_type": "markdown",
   "metadata": {},
   "source": [
    "### 1.6 String Compression\n",
    "Implement a method to perform basic string compression using the counts of repeated characters.\n",
    "For example:\n",
    "aabcccccaa -> a2b1c5a3\n",
    "\n",
    "If the \"compressed\" string would not become smaller than the original string, your method should return the original string.\n",
    "\n",
    "- You can assume the string has only uppercase and lowercase letters (a-z)"
   ]
  },
  {
   "cell_type": "code",
   "execution_count": 12,
   "metadata": {},
   "outputs": [],
   "source": [
    "def string_compress(string: str) -> str:\n",
    "    \"\"\"\n",
    "    Function to compress strings when repeated characters are found in it\n",
    "    :param string: string to be compressed as input\n",
    "    :return: string compressed if possible\n",
    "    \"\"\"\n",
    "    string_lst = list(string)\n",
    "    repetitions = 1\n",
    "    check_repetition = False\n",
    "\n",
    "    # iterate from the back of the text\n",
    "    for i in reversed(range(1, len(string))):\n",
    "        if string[i] == string[i-1]:\n",
    "            repetitions += 1\n",
    "            check_repetition = True\n",
    "            if i == 1:\n",
    "                string_lst[i:repetitions] = str(repetitions)\n",
    "        elif check_repetition  and string_lst[i] != string_lst[i-1] and repetitions > 1:\n",
    "            string_lst[i+1:i+repetitions] = str(repetitions)\n",
    "            repetitions = 1\n",
    "            check_repetition = False\n",
    "        else:\n",
    "            repetitions = 1\n",
    "            check_repetition = False\n",
    "    \n",
    "    # return if compress is possible\n",
    "    if len(string) > len(string_lst):\n",
    "        return ''.join(string_lst)\n",
    "    else:\n",
    "        return string\n",
    "        "
   ]
  },
  {
   "cell_type": "markdown",
   "metadata": {},
   "source": [
    "**Tests:**"
   ]
  },
  {
   "cell_type": "code",
   "execution_count": 13,
   "metadata": {},
   "outputs": [
    {
     "name": "stdout",
     "output_type": "stream",
     "text": [
      "- Test 0: a2b3c4d5e6f7g8\n",
      "- Test 1: aabbccddeeffgghhii\n",
      "- Test 2: a2b2c2d2e2f2g2h2i3\n",
      "- Test 3: a25\n",
      "- Test 4: AB2C3D4E2v2E3\n",
      "- Test 5: qwertyuiopasdfghjklñ\n"
     ]
    }
   ],
   "source": [
    "test_0 = \"aabbbccccdddddeeeeeefffffffgggggggg\" # a2b3c4d5e6g8\n",
    "test_1 = \"aabbccddeeffgghhii\" # No compress possible\n",
    "test_2 = \"aabbccddeeffgghhiii\" # a2b2c2d2e2f2g2h2i3\n",
    "test_3 = \"aaaaaaaaaaaaaaaaaaaaaaaaa\" # a25\n",
    "test_4 = \"ABBCCCDDDDEEvvEEE\" # AB2C3D4E2v2E3\n",
    "test_5 = \"qwertyuiopasdfghjklñ\" # No compress possible\n",
    "\n",
    "helpers.test_function([test_0],\n",
    "                      [test_1],\n",
    "                      [test_2],\n",
    "                      [test_3],\n",
    "                      [test_4],\n",
    "                      [test_5],\n",
    "                      func=string_compress\n",
    ")"
   ]
  },
  {
   "cell_type": "markdown",
   "metadata": {},
   "source": [
    "### 1.7 Rotate Matrix\n",
    "Given an image represented by an N x N matrix, where each pixel in the image is represented by an integer, write a method to rotate the image by 90 degreees.\n",
    "- Can you do this in place?"
   ]
  },
  {
   "cell_type": "code",
   "execution_count": 14,
   "metadata": {},
   "outputs": [],
   "source": [
    "def rotate_matrix(mtx: list):\n",
    "    max_size = len(mtx)-1\n",
    "    for layer in range(int(max_size/2)+1):\n",
    "        start = layer\n",
    "        end = max_size-layer\n",
    "        for i in range(start, end):\n",
    "            mapper = [(max_size-i, layer), (max_size-layer, max_size-i), (i, max_size-layer), (layer, i)]\n",
    "            # Iteration through the mapper\n",
    "            for x in range(len(mapper)):\n",
    "                pos = mapper[x]\n",
    "                # Save first element\n",
    "                if x == 0:\n",
    "                    temp = mtx[pos[0]][pos[1]]\n",
    "                # Matrix rotation\n",
    "                if x != len(mapper)-1:\n",
    "                    off = mapper[x+1]\n",
    "                    next_element = mtx[off[0]][off[1]]\n",
    "                else:\n",
    "                    next_element = temp\n",
    "                mtx[pos[0]][pos[1]] = next_element\n",
    "    return mtx        \n",
    "        \n",
    "        # [x][y]\n",
    "        # eq_ring_0 = [0][x] -> [x][max] -> [max][max-x] -> [max-x][0]\n",
    "        # eq_ring_1 = [0][i] -> [i][max] -> [max][max-i] -> [max-i][0]\n",
    "        # eq_ring_1 = [0][i] -> [i][max] -> [max][max-i] -> [max-i][0]\n"
   ]
  },
  {
   "cell_type": "markdown",
   "metadata": {},
   "source": [
    "**Tests:**"
   ]
  },
  {
   "cell_type": "code",
   "execution_count": 15,
   "metadata": {},
   "outputs": [
    {
     "name": "stdout",
     "output_type": "stream",
     "text": [
      "-----\n",
      "1\n",
      "-----\n",
      "-----\n",
      "1\n",
      "-----\n",
      "-----\n",
      "7\t 8\n",
      "2\t 5\n",
      "-----\n",
      "-----\n",
      "2\t 7\n",
      "5\t 8\n",
      "-----\n",
      "-----\n",
      "6\t 5\t 1\n",
      "1\t 3\t 2\n",
      "1\t 4\t 5\n",
      "-----\n",
      "-----\n",
      "1\t 1\t 6\n",
      "4\t 3\t 5\n",
      "5\t 2\t 1\n",
      "-----\n"
     ]
    }
   ],
   "source": [
    "test_a = [[1]]\n",
    "test_b = helpers.rnd_matrix(2)\n",
    "test_c = helpers.rnd_matrix(3)\n",
    "test_d = helpers.rnd_matrix(10**3)\n",
    "\n",
    "# Test the matrix\n",
    "helpers.test_function([test_a],[test_b], [test_c], func=rotate_matrix, matrix=True, show=True)\n",
    "\n",
    "# Rotate big matrix test\n",
    "matrix = rotate_matrix(test_d)"
   ]
  },
  {
   "cell_type": "markdown",
   "metadata": {},
   "source": [
    "### 1.8  Zero Matrix\n",
    "Write an algorithm such that if an element in an Mx N matrix is 0, its entire row and column are set to 0."
   ]
  },
  {
   "cell_type": "code",
   "execution_count": 32,
   "metadata": {},
   "outputs": [
    {
     "name": "stdout",
     "output_type": "stream",
     "text": [
      "-----\n",
      "9\t 0\t 1\t 1\t 5\n",
      "6\t 2\t 1\t 7\t 0\n",
      "3\t 1\t 6\t 1\t 0\n",
      "8\t 5\t 9\t 9\t 8\n",
      "6\t 6\t 1\t 2\t 6\n",
      "-----\n"
     ]
    }
   ],
   "source": [
    "mtx = helpers.rnd_matrix(size=5, seed=0)\n",
    "helpers.print_matrix(mtx)"
   ]
  },
  {
   "cell_type": "markdown",
   "metadata": {},
   "source": [
    "**Tests:**"
   ]
  },
  {
   "cell_type": "code",
   "execution_count": null,
   "metadata": {},
   "outputs": [],
   "source": []
  },
  {
   "cell_type": "markdown",
   "metadata": {},
   "source": [
    "### 1.9 String Rotation\n",
    "Assume you have a method isSubstring wich checks if one word is a substring of another. Given two strings, s1 and s2, write a code to check if s2 is a rotation of s1 using only one call to isSubstring.\n",
    "- E.g. \"waterbottle\" is a rotation of \"erbottlewat\"."
   ]
  },
  {
   "cell_type": "code",
   "execution_count": null,
   "metadata": {},
   "outputs": [],
   "source": []
  },
  {
   "cell_type": "markdown",
   "metadata": {},
   "source": [
    "**Tests:**"
   ]
  }
 ],
 "metadata": {
  "kernelspec": {
   "display_name": "Python 3",
   "language": "python",
   "name": "python3"
  },
  "language_info": {
   "codemirror_mode": {
    "name": "ipython",
    "version": 3
   },
   "file_extension": ".py",
   "mimetype": "text/x-python",
   "name": "python",
   "nbconvert_exporter": "python",
   "pygments_lexer": "ipython3",
   "version": "3.7.6"
  },
  "vscode": {
   "interpreter": {
    "hash": "3ad933181bd8a04b432d3370b9dc3b0662ad032c4dfaa4e4f1596c548f763858"
   }
  }
 },
 "nbformat": 4,
 "nbformat_minor": 4
}
